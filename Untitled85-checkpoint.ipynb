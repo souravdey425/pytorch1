{
 "cells": [
  {
   "cell_type": "code",
   "execution_count": 1,
   "id": "80c4e1a6-8564-480d-a342-3a97e28b6a53",
   "metadata": {},
   "outputs": [],
   "source": [
    "import torch\n",
    "import numpy as np"
   ]
  },
  {
   "cell_type": "code",
   "execution_count": 2,
   "id": "422ca52d-d540-4ace-a14a-59bac2ed65ac",
   "metadata": {},
   "outputs": [],
   "source": [
    "inputs=np.array([[73,67,43],\n",
    "                [91,88,64],\n",
    "                [87,134,58],\n",
    "                [102,43,37],\n",
    "                [69,96,70]], dtype=\"float32\")"
   ]
  },
  {
   "cell_type": "code",
   "execution_count": 3,
   "id": "7997c27c-d64b-4c6f-bb4b-8614bae534c9",
   "metadata": {},
   "outputs": [],
   "source": [
    "targets=np.array([[56,70],\n",
    "                 [81,101],\n",
    "                 [119,133],\n",
    "                 [22,37],\n",
    "                 [103,119]], dtype=\"float32\")"
   ]
  },
  {
   "cell_type": "code",
   "execution_count": 4,
   "id": "f8c1a949-174a-4479-b03c-54b4389aea5d",
   "metadata": {},
   "outputs": [],
   "source": [
    "input=torch.tensor(inputs)\n",
    "target=torch.from_numpy(targets)"
   ]
  },
  {
   "cell_type": "code",
   "execution_count": 5,
   "id": "cd3aa8df-5c50-481f-b1c6-a5d30a7ae185",
   "metadata": {},
   "outputs": [],
   "source": [
    "w=torch.randn(2,3,requires_grad=True)\n",
    "b=torch.randn(2,requires_grad=True)"
   ]
  },
  {
   "cell_type": "code",
   "execution_count": 6,
   "id": "c8bdac49-8052-4289-a528-1e4db9dff8e6",
   "metadata": {},
   "outputs": [],
   "source": [
    "def model(x):\n",
    "    return x @ w.t()+b"
   ]
  },
  {
   "cell_type": "code",
   "execution_count": 7,
   "id": "72c00810-8a81-4bcb-87c0-08f090db1e61",
   "metadata": {},
   "outputs": [
    {
     "name": "stdout",
     "output_type": "stream",
     "text": [
      "tensor([[ 50.7415,  46.1883],\n",
      "        [ 80.5089,  75.3209],\n",
      "        [167.0592,  73.6517],\n",
      "        [-42.7087,  19.1667],\n",
      "        [133.6341,  96.8054]], grad_fn=<AddBackward0>)\n"
     ]
    }
   ],
   "source": [
    "pred=model(input)\n",
    "print(pred)"
   ]
  },
  {
   "cell_type": "code",
   "execution_count": 8,
   "id": "b9819afb-5a45-45c6-9d88-24ae5a5190b5",
   "metadata": {},
   "outputs": [],
   "source": [
    "def mse(t1,t2):\n",
    "    diff=t1-t2\n",
    "    return torch.sum(diff*diff)/diff.numel()"
   ]
  },
  {
   "cell_type": "code",
   "execution_count": 9,
   "id": "a613d567-89a4-4e3e-9c72-26a6e26c2bea",
   "metadata": {},
   "outputs": [
    {
     "data": {
      "text/plain": [
       "tensor(1302.2512, grad_fn=<DivBackward0>)"
      ]
     },
     "execution_count": 9,
     "metadata": {},
     "output_type": "execute_result"
    }
   ],
   "source": [
    "loss=mse(target,pred)\n",
    "loss"
   ]
  },
  {
   "cell_type": "code",
   "execution_count": 10,
   "id": "30bf297d-3960-4700-a5d4-4fe2968cc02e",
   "metadata": {},
   "outputs": [],
   "source": [
    "loss.backward()"
   ]
  },
  {
   "cell_type": "code",
   "execution_count": 11,
   "id": "2d3be20b-f975-4f29-8f04-2488d18e0d74",
   "metadata": {},
   "outputs": [
    {
     "name": "stdout",
     "output_type": "stream",
     "text": [
      "tensor([[-1.5068,  1.8611,  0.8479],\n",
      "        [-0.4747,  0.1384,  1.6557]], requires_grad=True)\n",
      "tensor([[ -146.7878,  1240.5608,   456.0114],\n",
      "        [-2517.7563, -2941.0664, -1664.6045]])\n"
     ]
    }
   ],
   "source": [
    "print(w)\n",
    "print(w.grad)"
   ]
  },
  {
   "cell_type": "code",
   "execution_count": 12,
   "id": "b3639fe8-6fcd-4e0a-b314-fed200c8e869",
   "metadata": {},
   "outputs": [
    {
     "name": "stdout",
     "output_type": "stream",
     "text": [
      "tensor([-0.4184,  0.3705], requires_grad=True)\n",
      "tensor([  1.6470, -29.7734])\n"
     ]
    }
   ],
   "source": [
    "print(b)\n",
    "print(b.grad)"
   ]
  },
  {
   "cell_type": "code",
   "execution_count": 13,
   "id": "740b86af-998e-4b65-9e96-d68812ac07d7",
   "metadata": {},
   "outputs": [],
   "source": [
    "with torch.no_grad():\n",
    "    w-=w.grad*1e-5\n",
    "    b-=b.grad*1e-5\n",
    "    w.grad.zero_()\n",
    "    b.grad.zero_()"
   ]
  },
  {
   "cell_type": "code",
   "execution_count": 14,
   "id": "24e34c4e-c152-401c-9393-a7b65d474479",
   "metadata": {},
   "outputs": [
    {
     "name": "stdout",
     "output_type": "stream",
     "text": [
      "tensor([[-1.5053,  1.8487,  0.8433],\n",
      "        [-0.4495,  0.1678,  1.6724]], requires_grad=True)\n",
      "tensor([-0.4184,  0.3708], requires_grad=True)\n"
     ]
    }
   ],
   "source": [
    "print(w)\n",
    "print(b)"
   ]
  },
  {
   "cell_type": "code",
   "execution_count": 15,
   "id": "4107c0b3-f4fd-4db5-8525-3ead50402c1c",
   "metadata": {},
   "outputs": [
    {
     "name": "stdout",
     "output_type": "stream",
     "text": [
      "tensor(1123.6288, grad_fn=<DivBackward0>)\n"
     ]
    }
   ],
   "source": [
    "pred=model(input)\n",
    "loss=mse(pred,target)\n",
    "print(loss)"
   ]
  },
  {
   "cell_type": "code",
   "execution_count": 16,
   "id": "68593242-c0cb-40ae-907a-cb564b34095b",
   "metadata": {},
   "outputs": [],
   "source": [
    "for i in range(1000):\n",
    "    pred=model(input)\n",
    "    loss=mse(pred,target)\n",
    "    loss.backward()\n",
    "    with torch.no_grad():\n",
    "        w-=w.grad*1e-5\n",
    "        b-=b.grad*1e-5\n",
    "        w.grad.zero_()\n",
    "        b.grad.zero_()"
   ]
  },
  {
   "cell_type": "code",
   "execution_count": 17,
   "id": "4b992b9d-20bb-40e6-be44-054efb0c0ec4",
   "metadata": {},
   "outputs": [
    {
     "name": "stdout",
     "output_type": "stream",
     "text": [
      "tensor(7.0246, grad_fn=<DivBackward0>)\n"
     ]
    }
   ],
   "source": [
    "pred=model(input)\n",
    "loss=mse(pred,target)\n",
    "print(loss)"
   ]
  },
  {
   "cell_type": "code",
   "execution_count": 18,
   "id": "d492882d-76e1-458e-8149-afd0cac7bf93",
   "metadata": {},
   "outputs": [
    {
     "data": {
      "text/plain": [
       "tensor([[ 57.0686,  70.0705],\n",
       "        [ 82.2937, 103.1818],\n",
       "        [118.6496, 127.6309],\n",
       "        [ 20.9358,  35.5404],\n",
       "        [102.0753, 124.4404]], grad_fn=<AddBackward0>)"
      ]
     },
     "execution_count": 18,
     "metadata": {},
     "output_type": "execute_result"
    }
   ],
   "source": [
    "pred"
   ]
  },
  {
   "cell_type": "code",
   "execution_count": 19,
   "id": "2e8cb66b-3381-42d3-ad1a-a407ff4b9183",
   "metadata": {},
   "outputs": [],
   "source": [
    "import torch.nn as nn"
   ]
  },
  {
   "cell_type": "code",
   "execution_count": 20,
   "id": "b6196107-23d2-401e-be0c-77038d6ad444",
   "metadata": {},
   "outputs": [],
   "source": [
    "inputs=np.array([[73,67,43],[91,88,64],[87,134,58],\n",
    "               [102,43,37],[69,96,70],[73,67,43],\n",
    "                [91,88,64],[87,134,58],[102,43,37],\n",
    "                [69,96,70],[73,67,43],[91,88,64],\n",
    "                [87,134,58],[102,43,37],[69,96,70]],dtype=\"float32\")\n",
    "targets=np.array([[56,70],[81,101],[119,133],\n",
    "                  [22,37],[103,119],[56,70],\n",
    "                 [81,101],[119,133],[22,37],\n",
    "                 [103,119],[56,70],[81,101],\n",
    "                 [119,133],[22,37],[103,119]])"
   ]
  },
  {
   "cell_type": "code",
   "execution_count": 21,
   "id": "d1d63cc5-f73d-4bef-94ef-549be287d7da",
   "metadata": {},
   "outputs": [],
   "source": [
    "input=torch.tensor(inputs)\n",
    "target=torch.tensor(targets)"
   ]
  },
  {
   "cell_type": "code",
   "execution_count": 22,
   "id": "c632e9ae-c458-475e-a9d4-00028428acdc",
   "metadata": {},
   "outputs": [],
   "source": [
    "from torch.utils.data import TensorDataset"
   ]
  },
  {
   "cell_type": "code",
   "execution_count": 23,
   "id": "ca910d59-a618-4639-a3a7-b119b72767a9",
   "metadata": {},
   "outputs": [
    {
     "data": {
      "text/plain": [
       "(tensor([[ 73.,  67.,  43.],\n",
       "         [ 91.,  88.,  64.],\n",
       "         [ 87., 134.,  58.]]),\n",
       " tensor([[ 56,  70],\n",
       "         [ 81, 101],\n",
       "         [119, 133]]))"
      ]
     },
     "execution_count": 23,
     "metadata": {},
     "output_type": "execute_result"
    }
   ],
   "source": [
    "train_ds=TensorDataset(input,target)\n",
    "train_ds[0:3]"
   ]
  },
  {
   "cell_type": "code",
   "execution_count": 24,
   "id": "5e86c95b-5d0d-4716-b4b0-0c27de93536d",
   "metadata": {},
   "outputs": [],
   "source": [
    "from torch.utils.data import DataLoader"
   ]
  },
  {
   "cell_type": "code",
   "execution_count": 25,
   "id": "fa00c825-1462-4558-88d0-4c9054095916",
   "metadata": {},
   "outputs": [],
   "source": [
    "batch_size=5\n",
    "train_dl=DataLoader(train_ds,batch_size,shuffle=True)"
   ]
  },
  {
   "cell_type": "code",
   "execution_count": 26,
   "id": "6f93192b-c8a6-4244-aea8-d7f748df7f02",
   "metadata": {},
   "outputs": [
    {
     "name": "stdout",
     "output_type": "stream",
     "text": [
      "tensor([[ 73.,  67.,  43.],\n",
      "        [ 87., 134.,  58.],\n",
      "        [ 91.,  88.,  64.],\n",
      "        [ 73.,  67.,  43.],\n",
      "        [ 69.,  96.,  70.]])\n",
      "tensor([[ 56,  70],\n",
      "        [119, 133],\n",
      "        [ 81, 101],\n",
      "        [ 56,  70],\n",
      "        [103, 119]])\n",
      "tensor([[102.,  43.,  37.],\n",
      "        [102.,  43.,  37.],\n",
      "        [ 91.,  88.,  64.],\n",
      "        [ 73.,  67.,  43.],\n",
      "        [ 69.,  96.,  70.]])\n",
      "tensor([[ 22,  37],\n",
      "        [ 22,  37],\n",
      "        [ 81, 101],\n",
      "        [ 56,  70],\n",
      "        [103, 119]])\n",
      "tensor([[102.,  43.,  37.],\n",
      "        [ 87., 134.,  58.],\n",
      "        [ 91.,  88.,  64.],\n",
      "        [ 69.,  96.,  70.],\n",
      "        [ 87., 134.,  58.]])\n",
      "tensor([[ 22,  37],\n",
      "        [119, 133],\n",
      "        [ 81, 101],\n",
      "        [103, 119],\n",
      "        [119, 133]])\n"
     ]
    }
   ],
   "source": [
    "for xb,yb in train_dl:\n",
    "    print(xb)\n",
    "    print(yb)"
   ]
  },
  {
   "cell_type": "raw",
   "id": "a73f48cc-bdae-454e-8cdf-e7878c362e47",
   "metadata": {},
   "source": [
    "model=nn.Linear(3,2)//specify how many input and output//\n"
   ]
  },
  {
   "cell_type": "code",
   "execution_count": 27,
   "id": "8e9cc460-a7dc-4167-aeff-65fe20131606",
   "metadata": {},
   "outputs": [
    {
     "name": "stdout",
     "output_type": "stream",
     "text": [
      "Parameter containing:\n",
      "tensor([[-0.5035,  0.5576, -0.0142],\n",
      "        [-0.1153,  0.3998,  0.2241]], requires_grad=True)\n",
      "Parameter containing:\n",
      "tensor([ 0.3026, -0.0275], requires_grad=True)\n"
     ]
    },
    {
     "data": {
      "text/plain": [
       "[Parameter containing:\n",
       " tensor([[-0.5035,  0.5576, -0.0142],\n",
       "         [-0.1153,  0.3998,  0.2241]], requires_grad=True),\n",
       " Parameter containing:\n",
       " tensor([ 0.3026, -0.0275], requires_grad=True)]"
      ]
     },
     "execution_count": 27,
     "metadata": {},
     "output_type": "execute_result"
    }
   ],
   "source": [
    "model=nn.Linear(3,2)\n",
    "\n",
    "print(model.weight)\n",
    "print(model.bias)\n",
    "list(model.parameters())"
   ]
  },
  {
   "cell_type": "code",
   "execution_count": 28,
   "id": "2e0cd7dc-4ec0-4d27-ab70-4db100f1d552",
   "metadata": {},
   "outputs": [
    {
     "data": {
      "text/plain": [
       "tensor([[  0.2978,  27.9834],\n",
       "        [  2.6467,  39.0112],\n",
       "        [ 30.3974,  56.5200],\n",
       "        [-27.6017,  13.7004],\n",
       "        [ 18.0995,  46.0901],\n",
       "        [  0.2978,  27.9834],\n",
       "        [  2.6467,  39.0112],\n",
       "        [ 30.3974,  56.5200],\n",
       "        [-27.6017,  13.7004],\n",
       "        [ 18.0995,  46.0901],\n",
       "        [  0.2978,  27.9834],\n",
       "        [  2.6467,  39.0112],\n",
       "        [ 30.3974,  56.5200],\n",
       "        [-27.6017,  13.7004],\n",
       "        [ 18.0995,  46.0901]], grad_fn=<AddmmBackward0>)"
      ]
     },
     "execution_count": 28,
     "metadata": {},
     "output_type": "execute_result"
    }
   ],
   "source": [
    "pred=model(input)\n",
    "pred"
   ]
  },
  {
   "cell_type": "code",
   "execution_count": 29,
   "id": "0a7143f0-671e-4415-a35c-5045855318c2",
   "metadata": {},
   "outputs": [],
   "source": [
    "import torch.nn.functional as F"
   ]
  },
  {
   "cell_type": "code",
   "execution_count": 39,
   "id": "0d82fa39-923a-470d-bd28-d21e35953b30",
   "metadata": {},
   "outputs": [
    {
     "name": "stdout",
     "output_type": "stream",
     "text": [
      "tensor(4407.6719, grad_fn=<MseLossBackward0>)\n"
     ]
    }
   ],
   "source": [
    "\n",
    "loss=F.mse_loss(model(input),target)\n",
    "print(loss)"
   ]
  },
  {
   "cell_type": "code",
   "execution_count": 31,
   "id": "130528da-4c3e-4a4f-b301-7f20f2dc4192",
   "metadata": {},
   "outputs": [],
   "source": [
    "opt=torch.optim.SGD(model.parameters(),lr=1e-5)"
   ]
  },
  {
   "cell_type": "code",
   "execution_count": 41,
   "id": "1afefe13-4fe3-4e91-be2c-282b993e3f97",
   "metadata": {},
   "outputs": [],
   "source": [
    "def fit(num_epoch,model,loss_fn,opt):\n",
    "    for epoch in range(num_epoch):\n",
    "        for xb,yb in train_dl:\n",
    "            pred=model(xb)\n",
    "            loss=loss_fn(pred,yb.float())\n",
    "            loss.backward()\n",
    "            opt.step()\n",
    "            opt.zero_grad()\n",
    "            if(epoch+1)%10==0:\n",
    "                print(\"Epoch [{}/{}],Loss:{:.4f}\".format(epoch+1,num_epoch,loss.item()))"
   ]
  },
  {
   "cell_type": "code",
   "execution_count": 43,
   "id": "4f3a77e2-8f6d-48af-b1f2-ee3642797665",
   "metadata": {},
   "outputs": [
    {
     "name": "stdout",
     "output_type": "stream",
     "text": [
      "Epoch [10/100],Loss:8.5284\n",
      "Epoch [10/100],Loss:8.5426\n",
      "Epoch [10/100],Loss:8.5638\n",
      "Epoch [20/100],Loss:8.1113\n",
      "Epoch [20/100],Loss:8.0931\n",
      "Epoch [20/100],Loss:8.0763\n",
      "Epoch [30/100],Loss:7.7068\n",
      "Epoch [30/100],Loss:4.0693\n",
      "Epoch [30/100],Loss:11.3731\n",
      "Epoch [40/100],Loss:4.9736\n",
      "Epoch [40/100],Loss:4.9112\n",
      "Epoch [40/100],Loss:13.0201\n",
      "Epoch [50/100],Loss:3.2177\n",
      "Epoch [50/100],Loss:8.7537\n",
      "Epoch [50/100],Loss:9.5414\n",
      "Epoch [60/100],Loss:1.8161\n",
      "Epoch [60/100],Loss:7.4701\n",
      "Epoch [60/100],Loss:11.3926\n",
      "Epoch [70/100],Loss:6.2090\n",
      "Epoch [70/100],Loss:9.0657\n",
      "Epoch [70/100],Loss:3.4726\n",
      "Epoch [80/100],Loss:8.8610\n",
      "Epoch [80/100],Loss:6.0908\n",
      "Epoch [80/100],Loss:2.9739\n",
      "Epoch [90/100],Loss:9.8406\n",
      "Epoch [90/100],Loss:3.9807\n",
      "Epoch [90/100],Loss:3.1171\n",
      "Epoch [100/100],Loss:5.0751\n",
      "Epoch [100/100],Loss:2.9671\n",
      "Epoch [100/100],Loss:8.1720\n"
     ]
    }
   ],
   "source": [
    "loss_fn=nn.MSELoss()\n",
    "fit(100,model,loss_fn,opt)"
   ]
  },
  {
   "cell_type": "code",
   "execution_count": 46,
   "id": "386344ed-e601-4b0a-8197-536d916421de",
   "metadata": {},
   "outputs": [
    {
     "data": {
      "text/plain": [
       "tensor([[ 57.4364,  70.5563],\n",
       "        [ 80.7014,  99.1879],\n",
       "        [121.8813, 136.2401],\n",
       "        [ 22.0320,  38.0671],\n",
       "        [ 98.7926, 115.9179],\n",
       "        [ 57.4364,  70.5563],\n",
       "        [ 80.7014,  99.1879],\n",
       "        [121.8813, 136.2401],\n",
       "        [ 22.0320,  38.0671],\n",
       "        [ 98.7926, 115.9179],\n",
       "        [ 57.4364,  70.5563],\n",
       "        [ 80.7014,  99.1879],\n",
       "        [121.8813, 136.2401],\n",
       "        [ 22.0320,  38.0671],\n",
       "        [ 98.7926, 115.9179]], grad_fn=<AddmmBackward0>)"
      ]
     },
     "execution_count": 46,
     "metadata": {},
     "output_type": "execute_result"
    }
   ],
   "source": [
    "pred=model(input)\n",
    "pred"
   ]
  },
  {
   "cell_type": "code",
   "execution_count": 47,
   "id": "c87e3963-8d68-4147-9a22-73a8882b177e",
   "metadata": {},
   "outputs": [
    {
     "data": {
      "text/plain": [
       "tensor([[ 56,  70],\n",
       "        [ 81, 101],\n",
       "        [119, 133],\n",
       "        [ 22,  37],\n",
       "        [103, 119],\n",
       "        [ 56,  70],\n",
       "        [ 81, 101],\n",
       "        [119, 133],\n",
       "        [ 22,  37],\n",
       "        [103, 119],\n",
       "        [ 56,  70],\n",
       "        [ 81, 101],\n",
       "        [119, 133],\n",
       "        [ 22,  37],\n",
       "        [103, 119]])"
      ]
     },
     "execution_count": 47,
     "metadata": {},
     "output_type": "execute_result"
    }
   ],
   "source": [
    "target"
   ]
  },
  {
   "cell_type": "code",
   "execution_count": 49,
   "id": "514673a1-7da2-4773-b714-dd87f21334f8",
   "metadata": {},
   "outputs": [
    {
     "data": {
      "text/plain": [
       "'C:\\\\Users\\\\soura'"
      ]
     },
     "execution_count": 49,
     "metadata": {},
     "output_type": "execute_result"
    }
   ],
   "source": [
    "\n",
    "import os\n",
    "os.getcwd()"
   ]
  },
  {
   "cell_type": "code",
   "execution_count": null,
   "id": "4103b153-8658-4067-b526-2062bb8ffb03",
   "metadata": {},
   "outputs": [],
   "source": []
  }
 ],
 "metadata": {
  "kernelspec": {
   "display_name": "Python 3 (ipykernel)",
   "language": "python",
   "name": "python3"
  },
  "language_info": {
   "codemirror_mode": {
    "name": "ipython",
    "version": 3
   },
   "file_extension": ".py",
   "mimetype": "text/x-python",
   "name": "python",
   "nbconvert_exporter": "python",
   "pygments_lexer": "ipython3",
   "version": "3.11.9"
  }
 },
 "nbformat": 4,
 "nbformat_minor": 5
}
